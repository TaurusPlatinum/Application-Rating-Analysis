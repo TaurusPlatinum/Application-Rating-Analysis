{
 "cells": [
  {
   "cell_type": "code",
   "execution_count": 1,
   "id": "119637e9-1573-4506-ab31-a499aae49319",
   "metadata": {},
   "outputs": [
    {
     "ename": "NameError",
     "evalue": "name 'accepted' is not defined",
     "output_type": "error",
     "traceback": [
      "\u001b[31m---------------------------------------------------------------------------\u001b[39m",
      "\u001b[31mNameError\u001b[39m                                 Traceback (most recent call last)",
      "\u001b[36mCell\u001b[39m\u001b[36m \u001b[39m\u001b[32mIn[1]\u001b[39m\u001b[32m, line 1\u001b[39m\n\u001b[32m----> \u001b[39m\u001b[32m1\u001b[39m \u001b[38;5;28mprint\u001b[39m(\u001b[33m\"\u001b[39m\u001b[33mNumber of accepted applications:\u001b[39m\u001b[33m\"\u001b[39m, \u001b[38;5;28mlen\u001b[39m(\u001b[43maccepted\u001b[49m))\n\u001b[32m      2\u001b[39m \u001b[38;5;28mprint\u001b[39m(\u001b[33m\"\u001b[39m\u001b[38;5;130;01m\\n\u001b[39;00m\u001b[33mAverage rating by week:\u001b[39m\u001b[33m\"\u001b[39m)\n",
      "\u001b[31mNameError\u001b[39m: name 'accepted' is not defined"
     ]
    }
   ],
   "source": [
    "import pandas as pd\n",
    "\n",
    "applications = pd.read_csv(\"applications.csv\", low_memory=False)\n",
    "industries = pd.read_csv(\"industries.csv\", low_memory=False)\n",
    "applications = applications.drop_duplicates(subset=['applicant_id'], keep='first').reset_index(drop=True)\n",
    "applications['External Rating'] = pd.to_numeric(applications['External Rating'], errors='coerce').fillna(0)\n",
    "applications['Education level'] = applications['Education level'].fillna(\"Secondary\")\n",
    "applications['Applied at'] = pd.to_datetime(applications['Applied at'], errors='coerce')\n",
    "applications['Age'] = pd.to_numeric(applications['Age'], errors='coerce')\n",
    "applications['Amount'] = pd.to_numeric(applications['Amount'], errors='coerce')\n",
    "applications['is_married'] = applications['Marital status'].str.lower().str.contains('married')\n",
    "applications['is_kyiv'] = applications['Location'].str.lower().str.contains('київ|kiev|kyiv')\n",
    "industries['Industry'] = industries['Industry'].str.strip()\n",
    "applications['Industry'] = applications['Industry'].str.strip()\n",
    "applications = applications.merge(industries, on='Industry', how='left')\n",
    "applications['weekday'] = applications['Applied at'].dt.weekday \n",
    "applications['is_weekday'] = applications['weekday'] < 5\n",
    "\n",
    "age_score = ((applications['Age'] >= 35) & (applications['Age'] <= 55)).astype(int) * 20\n",
    "weekday_score = applications['is_weekday'].fillna(False).astype(int) * 20\n",
    "married_score = applications['is_married'].fillna(False).astype(int) * 20\n",
    "kyiv_score = apps['is_kyiv'].fillna(False).astype(int) * 10\n",
    "industry_score = applications['Score'].fillna(0).clip(0, 20)\n",
    "\n",
    "external_rating = applications['External Rating']\n",
    "external_high_score = (external_rating >= 7).astype(int) * 20\n",
    "external_low_score = (external_rating <= 2).astype(int) * (-20)\n",
    "\n",
    "applications['raw_rating'] = (\n",
    "    age_score +\n",
    "    weekday_score +\n",
    "    married_score +\n",
    "    kyiv_score +\n",
    "    industry_score +\n",
    "    external_high_score +\n",
    "    external_low_score\n",
    ")\n",
    "\n",
    "applications.loc[applications['Amount'].isna() | (external_rating == 0), 'raw_rating'] = 0\n",
    "applications['rating'] = applications['raw_rating'].clip(lower=0, upper=100).astype(int)\n",
    "accepted = applications[applications['rating'] > 0].copy()\n",
    "\n",
    "\n",
    "weekly_avg = (\n",
    "    accepted\n",
    "    .set_index('Applied at')\n",
    "    .resample('W-MON')['rating']\n",
    "    .mean()\n",
    "    .reset_index()\n",
    "    .rename(columns={'Applied at': 'week_starting_monday', 'rating': 'avg_rating'})\n",
    ")\n",
    "weekly_avg['avg_rating'] = weekly_avg['avg_rating'].fillna(0)\n",
    "\n",
    "print(\"Number of accepted applications:\", len(accepted))\n",
    "print(\"\\nAverage rating by week:\")\n",
    "print(weekly_avg)\n",
    "\n",
    "\n",
    "accepted.to_csv(\"accepted_applications.csv\", index=False)\n",
    "weekly_avg.to_csv(\"weekly_avg_rating.csv\", index=False)\n"
   ]
  },
  {
   "cell_type": "code",
   "execution_count": null,
   "id": "0c56114c-f882-4f52-8e84-3123886cf1a8",
   "metadata": {},
   "outputs": [],
   "source": []
  }
 ],
 "metadata": {
  "kernelspec": {
   "display_name": "Python 3 (ipykernel)",
   "language": "python",
   "name": "python3"
  },
  "language_info": {
   "codemirror_mode": {
    "name": "ipython",
    "version": 3
   },
   "file_extension": ".py",
   "mimetype": "text/x-python",
   "name": "python",
   "nbconvert_exporter": "python",
   "pygments_lexer": "ipython3",
   "version": "3.11.4"
  }
 },
 "nbformat": 4,
 "nbformat_minor": 5
}
